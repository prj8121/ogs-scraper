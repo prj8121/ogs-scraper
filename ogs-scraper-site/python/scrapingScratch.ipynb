{
 "cells": [
  {
   "cell_type": "code",
   "execution_count": 104,
   "id": "d8bb6a07-bc16-4b80-b9ae-997ae21f9813",
   "metadata": {
    "tags": []
   },
   "outputs": [],
   "source": [
    "from bs4 import BeautifulSoup\n",
    "\n",
    "\n",
    "url = \"https://online-go.com/player/1689/\"\n",
    "url2 = \"https://online-go.com/player/1110658/\""
   ]
  },
  {
   "cell_type": "code",
   "execution_count": 105,
   "id": "4bbde6d5-e9ae-4a96-a754-304c8d0b87a5",
   "metadata": {
    "tags": []
   },
   "outputs": [],
   "source": [
    "def use_requests(url):\n",
    "    import requests\n",
    "    response = requests.get(url)\n",
    "    html_content = \"\"\n",
    "    if response.status_code == 200:\n",
    "        # Get the HTML content from the response\n",
    "        html_content = response.text\n",
    "\n",
    "        # Print the HTML content\n",
    "        # print(html_content)\n",
    "    else:\n",
    "        print(f\"Failed to retrieve content. Status code: {response.status_code}\")\n",
    "    return html_content"
   ]
  },
  {
   "cell_type": "code",
   "execution_count": 106,
   "id": "0b8de1bf",
   "metadata": {},
   "outputs": [],
   "source": [
    "def use_selinium_chrome(url, css_selector):\n",
    "    from selenium import webdriver\n",
    "    from selenium.webdriver.common.by import By\n",
    "    from selenium.webdriver.support.ui import WebDriverWait\n",
    "    from selenium.webdriver.support import expected_conditions as EC\n",
    "    from selenium.common.exceptions import WebDriverException\n",
    "    from webdriver_manager.chrome import ChromeDriverManager\n",
    "    from selenium.webdriver.chrome.service import Service\n",
    "\n",
    "    def GetAllInfo(driver):\n",
    "        ret = {}\n",
    "        ret['num_games'] = get_active_games(driver)\n",
    "        date_selector_1 = 'table.game-history-table > tbody:nth-child(2) > tr:nth-child(1) > td:nth-child(3)'\n",
    "        date_selector_2 = 'table.game-history-table > tbody:nth-child(2) > tr:nth-child(2) > td:nth-child(3)'\n",
    "\n",
    "    def get_active_games(driver):\n",
    "        active_games_selector = '.active-games > h2:nth-child(1)'\n",
    "        active_games_header = getElement(driver, active_games_selector)\n",
    "        text = active_games_header.text\n",
    "        # The text looks like this \"Active Games (5)\" so [14:-1] takes off \n",
    "        # 'Active Games (' from the front and ')' from the end\n",
    "        num_games = text[14:-1]\n",
    "        \n",
    "        return num_games\n",
    "    \n",
    "    def get_recent_games(driver):\n",
    "        recent_games_selector = 'table.game-history-table > tbody:nth-child(2)'\n",
    "        table = getElement(driver, recent_games_selector)\n",
    "\n",
    "        row_list = table.find_elements(By.TAG_NAME, \"tr\")\n",
    "        for row in row_list:\n",
    "            print(row.text)\n",
    "\n",
    "\n",
    "    def getElement(driver, css_selector):\n",
    "        # Wait for the element you want to scrape to be visible\n",
    "        wait = WebDriverWait(driver, 20)\n",
    "        element = wait.until(EC.visibility_of_element_located((By.CSS_SELECTOR, css_selector)))\n",
    "        return element\n",
    "\n",
    "\n",
    "    firefox_bin_path = \"/usr/bin/firefox\"\n",
    "    geckodriver_bin_path = \"/snap/bin/geckodriver\"\n",
    "\n",
    "    try:\n",
    "        print('before driver')\n",
    "        driver = webdriver.Chrome(service=Service(ChromeDriverManager().install()))\n",
    "        print('after intitialization')\n",
    "\n",
    "        driver.get(url)\n",
    "        print('after get')\n",
    "\n",
    "        # Wait for the element you want to scrape to be visible\n",
    "        #wait = WebDriverWait(driver, 10)\n",
    "        #print('after wait')\n",
    "        #element = wait.until(EC.visibility_of_element_located((By.CSS_SELECTOR, css_selector)))\n",
    "        #print('after after wait')\n",
    "\n",
    "        text = get_active_games(driver)\n",
    "        print(text)\n",
    "\n",
    "        get_recent_games(driver)\n",
    "\n",
    "\n",
    "        # Don't forget to close the browser when you're done\n",
    "        driver.quit()\n",
    "\n",
    "        return text\n",
    "    except WebDriverException as e:\n",
    "        print(f'Error: {e}')\n",
    "        print(e.msg)\n",
    "\n",
    "    "
   ]
  },
  {
   "cell_type": "code",
   "execution_count": 107,
   "id": "4aae229a-6bdc-465b-9eb1-245cc134cc28",
   "metadata": {},
   "outputs": [],
   "source": [
    "soup = BeautifulSoup(use_requests(url), 'html.parser')\n"
   ]
  },
  {
   "cell_type": "code",
   "execution_count": 108,
   "id": "8ad756dc-4618-41b0-9249-17141c996c80",
   "metadata": {
    "tags": []
   },
   "outputs": [
    {
     "name": "stdout",
     "output_type": "stream",
     "text": [
      "Title: farful\n",
      "<div id=\"main-content\"></div>\n",
      "[]\n"
     ]
    }
   ],
   "source": [
    "\n",
    "# Extract and print the title text\n",
    "title = soup.title.string\n",
    "print(f\"Title: {title}\")\n",
    "\n",
    "main_content = soup.find('div', id='main-content')\n",
    "print(main_content)\n",
    "print([x for x in main_content.children])"
   ]
  },
  {
   "cell_type": "code",
   "execution_count": 109,
   "id": "3b172a75",
   "metadata": {},
   "outputs": [
    {
     "name": "stdout",
     "output_type": "stream",
     "text": [
      "before driver\n",
      "after intitialization\n",
      "after get\n",
      "5\n",
      "⚫[7k] 2023-09-15\n",
      "SwanGo\n",
      "[7k]\n",
      "19x19 友谊赛 B+2.5 points, ranked\n",
      "⚫[7k] 2023-09-14\n",
      "Sighar\n",
      "[6k]\n",
      "19x19 Friendly Match B+1.5 points, ranked\n",
      "⚫[7k] 2023-09-04\n",
      "Layzo\n",
      "[9k]\n",
      "19x19 Partita amichevole B+Timeout, ranked\n",
      "⚪[7k] 2023-09-03\n",
      "ancienjeu\n",
      "[9k]\n",
      "19x19 Friendly Match W+Resignation, ranked\n",
      "⚪[8k] 2023-09-02\n",
      "Sighar\n",
      "[6k]\n",
      "19x19 Friendly Match W+Resignation, ranked\n",
      "⚫[8k] 2023-09-01\n",
      "deleted-c8064815-716b-4a6b-8973-7fdc09ddb155\n",
      "[8k]\n",
      "19x19 Let's have fun W+2.5 points\n",
      "⚪[7k] 2023-08-14\n",
      "Tavukmarti\n",
      "[4k]\n",
      "19x19 Dostluk karşılaşması B+Timeout, ranked\n",
      "⚫[7k] 2023-08-07\n",
      "Layzo\n",
      "[7k]\n",
      "19x19 Friendly Match W+11.5 points, ranked\n",
      "⚪[7k] 2023-08-04\n",
      "nationalparx\n",
      "[6k]\n",
      "19x19 hi3 W+19.5 points, ranked\n",
      "⚪[7k] 2023-08-02\n",
      "max6299\n",
      "[7k]\n",
      "19x19 親睦戦 B+12.5 points, ranked\n",
      "5\n"
     ]
    }
   ],
   "source": [
    "mc_sel = '#main-content'\n",
    "rg_sel = '.ratings-grid'\n",
    "\n",
    "thing = use_selinium_chrome(url2, rg_sel)\n",
    "print(thing)"
   ]
  }
 ],
 "metadata": {
  "kernelspec": {
   "display_name": "Python 3 (ipykernel)",
   "language": "python",
   "name": "python3"
  },
  "language_info": {
   "codemirror_mode": {
    "name": "ipython",
    "version": 3
   },
   "file_extension": ".py",
   "mimetype": "text/x-python",
   "name": "python",
   "nbconvert_exporter": "python",
   "pygments_lexer": "ipython3",
   "version": "3.10.12"
  }
 },
 "nbformat": 4,
 "nbformat_minor": 5
}
